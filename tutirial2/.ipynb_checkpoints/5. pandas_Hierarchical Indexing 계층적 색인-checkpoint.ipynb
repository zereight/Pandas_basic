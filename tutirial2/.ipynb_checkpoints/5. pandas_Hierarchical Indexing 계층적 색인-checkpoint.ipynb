{
 "cells": [
  {
   "cell_type": "markdown",
   "metadata": {},
   "source": [
    "## 계층적색인은 한마디로 index안에 또, 인덱스가 있는 구조이다\n",
    "## 잘쓰면 tree나 hash로 사용가능하기도 하고\n",
    "## DataFrame과 Series간의 변환도 가능하게 해준다"
   ]
  },
  {
   "cell_type": "code",
   "execution_count": 1,
   "metadata": {},
   "outputs": [],
   "source": [
    "import pandas as pd\n",
    "import numpy as np"
   ]
  },
  {
   "cell_type": "code",
   "execution_count": 25,
   "metadata": {},
   "outputs": [
    {
     "data": {
      "text/plain": [
       "A  1    0.811599\n",
       "   2    2.426032\n",
       "   3   -0.603271\n",
       "   4    0.613495\n",
       "B  5   -0.215953\n",
       "C  6   -0.094087\n",
       "dtype: float64"
      ]
     },
     "execution_count": 25,
     "metadata": {},
     "output_type": "execute_result"
    }
   ],
   "source": [
    "\n",
    "# Series로 계층적 색인 구현\n",
    "\n",
    "se = pd.Series(\n",
    "            np.random.randn(6),\n",
    "            index = [   #index 부분만 다르다.\n",
    "                        ['A','A','A','A','B','C'],  # 차례대로 맵핑시킨다.\n",
    "                        [1,2,3,4,5,6]\n",
    "            ]\n",
    ")\n",
    "\n",
    "se"
   ]
  },
  {
   "cell_type": "code",
   "execution_count": 26,
   "metadata": {},
   "outputs": [
    {
     "data": {
      "text/plain": [
       "MultiIndex(levels=[['A', 'B', 'C'], [1, 2, 3, 4, 5, 6]],\n",
       "           codes=[[0, 0, 0, 0, 1, 2], [0, 1, 2, 3, 4, 5]])"
      ]
     },
     "execution_count": 26,
     "metadata": {},
     "output_type": "execute_result"
    }
   ],
   "source": [
    "\n",
    "se.index # 인덱스를 출력한다. \n",
    "         # 출력하고 보면, 각 계층별 레벨이 나온다\n",
    "\n"
   ]
  },
  {
   "cell_type": "code",
   "execution_count": 27,
   "metadata": {},
   "outputs": [
    {
     "data": {
      "text/plain": [
       "1    0.811599\n",
       "2    2.426032\n",
       "3   -0.603271\n",
       "4    0.613495\n",
       "dtype: float64"
      ]
     },
     "execution_count": 27,
     "metadata": {},
     "output_type": "execute_result"
    }
   ],
   "source": [
    "se['A'] # 상위인덱스 A에 해당하는 인덱스와 값을 불러온다."
   ]
  },
  {
   "cell_type": "code",
   "execution_count": 28,
   "metadata": {},
   "outputs": [
    {
     "data": {
      "text/plain": [
       "A  1    0.811599\n",
       "   2    2.426032\n",
       "   3   -0.603271\n",
       "   4    0.613495\n",
       "B  5   -0.215953\n",
       "dtype: float64"
      ]
     },
     "execution_count": 28,
     "metadata": {},
     "output_type": "execute_result"
    }
   ],
   "source": [
    "se['A':'B'] # 범위도 지정가능하다, 이때 상위인덱스들은 연속되어야한다.  A,A,A,B,C여야하지 A,B,A,A,C면 슬라이싱불가능"
   ]
  },
  {
   "cell_type": "code",
   "execution_count": 31,
   "metadata": {},
   "outputs": [
    {
     "data": {
      "text/plain": [
       "A    2.426032\n",
       "dtype: float64"
      ]
     },
     "execution_count": 31,
     "metadata": {},
     "output_type": "execute_result"
    }
   ],
   "source": [
    "se[:,2] // 모든 상위인덱스중에서 하위인덱스가 2인것 출력"
   ]
  },
  {
   "cell_type": "code",
   "execution_count": 34,
   "metadata": {},
   "outputs": [
    {
     "data": {
      "text/html": [
       "<div>\n",
       "<style scoped>\n",
       "    .dataframe tbody tr th:only-of-type {\n",
       "        vertical-align: middle;\n",
       "    }\n",
       "\n",
       "    .dataframe tbody tr th {\n",
       "        vertical-align: top;\n",
       "    }\n",
       "\n",
       "    .dataframe thead th {\n",
       "        text-align: right;\n",
       "    }\n",
       "</style>\n",
       "<table border=\"1\" class=\"dataframe\">\n",
       "  <thead>\n",
       "    <tr style=\"text-align: right;\">\n",
       "      <th></th>\n",
       "      <th>1</th>\n",
       "      <th>2</th>\n",
       "      <th>3</th>\n",
       "      <th>4</th>\n",
       "      <th>5</th>\n",
       "      <th>6</th>\n",
       "    </tr>\n",
       "  </thead>\n",
       "  <tbody>\n",
       "    <tr>\n",
       "      <th>A</th>\n",
       "      <td>0.811599</td>\n",
       "      <td>2.426032</td>\n",
       "      <td>-0.603271</td>\n",
       "      <td>0.613495</td>\n",
       "      <td>NaN</td>\n",
       "      <td>NaN</td>\n",
       "    </tr>\n",
       "    <tr>\n",
       "      <th>B</th>\n",
       "      <td>NaN</td>\n",
       "      <td>NaN</td>\n",
       "      <td>NaN</td>\n",
       "      <td>NaN</td>\n",
       "      <td>-0.215953</td>\n",
       "      <td>NaN</td>\n",
       "    </tr>\n",
       "    <tr>\n",
       "      <th>C</th>\n",
       "      <td>NaN</td>\n",
       "      <td>NaN</td>\n",
       "      <td>NaN</td>\n",
       "      <td>NaN</td>\n",
       "      <td>NaN</td>\n",
       "      <td>-0.094087</td>\n",
       "    </tr>\n",
       "  </tbody>\n",
       "</table>\n",
       "</div>"
      ],
      "text/plain": [
       "          1         2         3         4         5         6\n",
       "A  0.811599  2.426032 -0.603271  0.613495       NaN       NaN\n",
       "B       NaN       NaN       NaN       NaN -0.215953       NaN\n",
       "C       NaN       NaN       NaN       NaN       NaN -0.094087"
      ]
     },
     "execution_count": 34,
     "metadata": {},
     "output_type": "execute_result"
    }
   ],
   "source": [
    "\n",
    "# 멀티인덱스 Series를 DataFrame으로 변환\n",
    "\n",
    "#df = pd.DataFrame(se) 이 아니고\n",
    "# 시리즈 멤버변수의 unstack사용\n",
    "df = se.unstack() \n",
    "df\n"
   ]
  },
  {
   "cell_type": "code",
   "execution_count": 35,
   "metadata": {},
   "outputs": [
    {
     "data": {
      "text/plain": [
       "A  1    0.811599\n",
       "   2    2.426032\n",
       "   3   -0.603271\n",
       "   4    0.613495\n",
       "B  5   -0.215953\n",
       "C  6   -0.094087\n",
       "dtype: float64"
      ]
     },
     "execution_count": 35,
     "metadata": {},
     "output_type": "execute_result"
    }
   ],
   "source": [
    "\n",
    "# 반대로 DataFrame을 Series로 만드려면\n",
    "# DataFrame의 멤버변수 .stack() 을 사용하면, 멀티인덱스 시리즈가 됨.\n",
    "\n",
    "df.stack()\n"
   ]
  },
  {
   "cell_type": "code",
   "execution_count": null,
   "metadata": {},
   "outputs": [],
   "source": [
    "\n"
   ]
  }
 ],
 "metadata": {
  "kernelspec": {
   "display_name": "Python 3",
   "language": "python",
   "name": "python3"
  },
  "language_info": {
   "codemirror_mode": {
    "name": "ipython",
    "version": 3
   },
   "file_extension": ".py",
   "mimetype": "text/x-python",
   "name": "python",
   "nbconvert_exporter": "python",
   "pygments_lexer": "ipython3",
   "version": "3.7.3"
  }
 },
 "nbformat": 4,
 "nbformat_minor": 2
}
