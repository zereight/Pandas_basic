{
 "cells": [
  {
   "cell_type": "markdown",
   "metadata": {},
   "source": [
    "# 헬로주피터 노트북\n",
    "## 제목1\n",
    "### 제목2\n",
    "#### html 형식으로 저장됩니다\n",
    "\n",
    "\n",
    "\n",
    "> note 형식입니다\n",
    "\n",
    "\n",
    "\n",
    "[하이퍼링크 형식입니다.](www.google.co.kr)\n",
    "\n",
    "\n",
    "#### 표만들기\n",
    "|column1|column2|\n",
    "|-------|-------|\n",
    "|what1 | hi.   |\n",
    "|what2 | hi.   |\n",
    "|what3 | hi.   |\n",
    "|what4 | hi.   |\n",
    "|what5 | hi.   |\n",
    "|what6 | hi.   |\n",
    "\n",
    "\n",
    "### 사진 첨부하기\n",
    "##### 경로는 인터넷url이든 컴퓨터상의 주소든 상관없습니다\n",
    "<img src=\"파일경로.jpg\">\n"
   ]
  },
  {
   "cell_type": "code",
   "execution_count": 2,
   "metadata": {},
   "outputs": [
    {
     "name": "stdout",
     "output_type": "stream",
     "text": [
      "Hello Jupyter Notebook\n"
     ]
    }
   ],
   "source": [
    "print(\"Hello Jupyter Notebook\")"
   ]
  },
  {
   "cell_type": "code",
   "execution_count": null,
   "metadata": {},
   "outputs": [],
   "source": []
  }
 ],
 "metadata": {
  "kernelspec": {
   "display_name": "Python 3",
   "language": "python",
   "name": "python3"
  },
  "language_info": {
   "codemirror_mode": {
    "name": "ipython",
    "version": 3
   },
   "file_extension": ".py",
   "mimetype": "text/x-python",
   "name": "python",
   "nbconvert_exporter": "python",
   "pygments_lexer": "ipython3",
   "version": "3.7.3"
  }
 },
 "nbformat": 4,
 "nbformat_minor": 2
}
